{
 "cells": [
  {
   "cell_type": "markdown",
   "id": "3e71f9aa",
   "metadata": {},
   "source": [
    "# Lab Activity Week 6\n",
    "\n",
    "**Homework** Anythin you do not complete in lab is your homework. Please provide a link to your github repository as your homework submission."
   ]
  },
  {
   "cell_type": "markdown",
   "id": "751588bb",
   "metadata": {},
   "source": [
    "### Step 1: Aquiring data\n",
    "\n",
    "- Collect data from your weather and air quality sensors together (in the same script) for 5 minutes, taking a reading every second. \n",
    "- Make the name of the file saving the data something that is unique each time data is recorded. \n",
    "   - **HINT:** You can include the time as part of the file name, for example.\n",
    "- Upload your new data to your git repository on GitHub and update the version of your respository on your laptop"
   ]
  },
  {
   "cell_type": "code",
   "execution_count": 94,
   "id": "c8f2f1aa",
   "metadata": {},
   "outputs": [],
   "source": [
    "import pandas as pd\n",
    "import numpy as np\n",
    "import matplotlib.pyplot as plt\n",
    "import time\n",
    "import math\n",
    "\n",
    "outdoor = pd.read_csv('CSV_FILES/20230215-160202_aq_pth.csv')\n",
    "indoor = pd.read_csv('CSV_FILES/20230222-144631_aq_pth.csv')\n",
    "outdoor = outdoor[-300:]\n",
    "indoor = indoor.drop(\"Unnamed: 10\", axis='columns')\n",
    "indoor = indoor.drop(\"Local Time\", axis='columns')\n",
    "outdoor = outdoor.drop(\"Unnamed: 10\", axis='columns')\n",
    "outdoor = outdoor.drop(\"Local Time\", axis='columns')"
   ]
  },
  {
   "cell_type": "code",
   "execution_count": 95,
   "id": "862f5544",
   "metadata": {},
   "outputs": [],
   "source": [
    "def plotCSV(df, title):\n",
    "    plt.plot(df['Unix Time'], df['PM1.0'], label = '1 µm')\n",
    "    plt.plot(df['Unix Time'], df['PM2.5'], label = '2.5 µm')\n",
    "    plt.plot(df['Unix Time'], df['PM10'], label = '10 µm')\n",
    "    plt.legend(loc='best')\n",
    "    plt.xlabel(\"Time - seconds\")\n",
    "    plt.ylabel(\"Parts per million\")\n",
    "    plt.title(title + \" - Particulate\")\n",
    "    plt.show()\n",
    "    \n",
    "    plt.figure(figsize = (20, 10))\n",
    "    plt.subplot(2, 3, 1)\n",
    "    plt.plot(df['Unix Time'], df['Temperature'])\n",
    "    plt.xlabel(\"Time - seconds\")\n",
    "    plt.ylabel(\"Temperature - ˚C\")\n",
    "    plt.title(\"Temperature\")\n",
    "    plt.subplot(2, 3, 2)\n",
    "    plt.plot(df['Unix Time'], df['Gas'])\n",
    "    plt.xlabel(\"Time - seconds\")\n",
    "    plt.ylabel(\"Resistance - Ohms\")\n",
    "    plt.title(\"Gas\")\n",
    "    plt.subplot(2, 3, 3)\n",
    "    plt.plot(df['Unix Time'], df['Humidity'])\n",
    "    plt.xlabel(\"Time - seconds\")\n",
    "    plt.ylabel(\"Humidity - Percent\")\n",
    "    plt.title(\"Humidity\")\n",
    "    plt.subplot(2, 3, 4)\n",
    "    plt.plot(df['Unix Time'], df['Pressure'])\n",
    "    plt.xlabel(\"Time - seconds\")\n",
    "    plt.ylabel(\"Pressure - hPa\")\n",
    "    plt.title(\"Pressure\")\n",
    "    plt.subplot(2, 3, 5)\n",
    "    plt.plot(df['Unix Time'], df['Altitude'])\n",
    "    plt.xlabel(\"Time - seconds\")\n",
    "    plt.ylabel(\"Altitude - meters\")\n",
    "    plt.title(\"Altitude\")\n",
    "    \n",
    "    plt.suptitle(title, fontsize = 20)\n",
    "    plt.show()"
   ]
  },
  {
   "cell_type": "code",
   "execution_count": 96,
   "id": "f85aaee6",
   "metadata": {},
   "outputs": [],
   "source": [
    "def plotCSVoverlap(df1, df2, title1, title2):\n",
    "    x = np.arange(0,df1.shape[0])\n",
    "    \n",
    "    plt.figure(figsize = (20, 5))\n",
    "    plt.plot(x, df1['PM1.0'], label = '1 µm - ' + title1)\n",
    "    plt.plot(x, df1['PM2.5'], label = '2.5 µm - ' + title1)\n",
    "    plt.plot(x, df1['PM10'], label = '10 µm - ' + title1)\n",
    "    plt.plot(x, df2['PM1.0'], label = '1 µm - ' + title2)\n",
    "    plt.plot(x, df2['PM2.5'], label = '2.5 µm - ' + title2)\n",
    "    plt.plot(x, df2['PM10'], label = '10 µm - ' + title2)\n",
    "    \n",
    "    plt.legend(loc='best')\n",
    "    plt.xlabel(\"Time since start - seconds\")\n",
    "    plt.ylabel(\"Parts per million\")\n",
    "    plt.title(\"Particulate\", fontsize = 20)\n",
    "    plt.show()\n",
    "    \n",
    "    plt.figure(figsize = (20, 10))\n",
    "    plt.subplot(2, 3, 1)\n",
    "    plt.plot(x, df1['Temperature'], label = title1)\n",
    "    plt.plot(x, df2['Temperature'], label = title2)\n",
    "    plt.legend(loc='best')\n",
    "    plt.xlabel(\"Time - seconds\")\n",
    "    plt.ylabel(\"Temperature - ˚C\")\n",
    "    plt.title(\"Temperature\")\n",
    "    plt.subplot(2, 3, 2)\n",
    "    plt.plot(x, df1['Gas'], label = title1)\n",
    "    plt.plot(x, df2['Gas'], label = title2)\n",
    "    plt.legend(loc='best')\n",
    "    plt.xlabel(\"Time - seconds\")\n",
    "    plt.ylabel(\"Resistance - Ohms\")\n",
    "    plt.title(\"Gas\")\n",
    "    plt.subplot(2, 3, 3)\n",
    "    plt.plot(x, df1['Humidity'], label = title1)\n",
    "    plt.plot(x, df2['Humidity'], label = title2)\n",
    "    plt.legend(loc='best')\n",
    "    plt.xlabel(\"Time - seconds\")\n",
    "    plt.ylabel(\"Humidity - Percent\")\n",
    "    plt.title(\"Humidity\")\n",
    "    plt.subplot(2, 3, 4)\n",
    "    plt.plot(x, df1['Pressure'], label = title1)\n",
    "    plt.plot(x, df2['Pressure'], label = title2)\n",
    "    plt.legend(loc='best')\n",
    "    plt.xlabel(\"Time - seconds\")\n",
    "    plt.ylabel(\"Pressure - hPa\")\n",
    "    plt.title(\"Pressure\")\n",
    "    plt.subplot(2, 3, 5)\n",
    "    plt.plot(x, df1['Altitude'], label = title1)\n",
    "    plt.plot(x, df2['Altitude'], label = title2)\n",
    "    plt.legend(loc='best')\n",
    "    plt.xlabel(\"Time - seconds\")\n",
    "    plt.ylabel(\"Altitude - meters\")\n",
    "    plt.title(\"Altitude\")\n",
    "    \n",
    "    plt.suptitle(\"PTH Data\", fontsize = 20)\n",
    "    plt.show()"
   ]
  },
  {
   "cell_type": "code",
   "execution_count": 113,
   "id": "2cba29eb",
   "metadata": {},
   "outputs": [],
   "source": [
    "def plotCSVhist(df1, df2, title1, title2):\n",
    "    \n",
    "    plt.hist(df1['PM1.0'], label = '1 µm - ' + title1)\n",
    "    plt.hist(df2['PM1.0'], label = '1 µm - ' + title2)\n",
    "    plt.title(\"1 $\\mu$m particles\")\n",
    "    plt.show()\n",
    "    \n",
    "    plt.hist(df1['PM2.5'], label = '2.5 µm - ' + title1)\n",
    "    plt.hist(df2['PM2.5'], label = '2.5 µm - ' + title2)\n",
    "    plt.title(\"2.5 $\\mu$m particles\")\n",
    "    plt.show()\n",
    "    \n",
    "    plt.hist(df1['PM10'], label = '10 µm - ' + title1)\n",
    "    plt.hist(df2['PM10'], label = '10 µm - ' + title2)\n",
    "    plt.title(\"10 $\\mu$m particles\")\n",
    "    plt.show()\n",
    "    \n",
    "    x = np.arange(0,300)\n",
    "    \n",
    "    plt.figure(figsize = (20, 10))\n",
    "    plt.subplot(2, 3, 1)\n",
    "    plt.hist(df1['Temperature'], label = title1)\n",
    "    plt.hist(df2['Temperature'], label = title2)\n",
    "    plt.legend(loc='best')\n",
    "    plt.xlabel(\"Time - seconds\")\n",
    "    plt.ylabel(\"Temperature - ˚C\")\n",
    "    plt.title(\"Temperature\")\n",
    "    \n",
    "    plt.subplot(2, 3, 2)\n",
    "    plt.hist(df1['Gas'], label = title1)\n",
    "    plt.hist(df2['Gas'], label = title2)\n",
    "    plt.legend(loc='best')\n",
    "    plt.xlabel(\"Time - seconds\")\n",
    "    plt.ylabel(\"Resistance - Ohms\")\n",
    "    plt.title(\"Gas\")\n",
    "    \n",
    "    plt.subplot(2, 3, 3)\n",
    "    plt.hist(df1['Humidity'], label = title1)\n",
    "    plt.hist(df2['Humidity'], label = title2)\n",
    "    plt.legend(loc='best')\n",
    "    plt.xlabel(\"Time - seconds\")\n",
    "    plt.ylabel(\"Humidity - Percent\")\n",
    "    plt.title(\"Humidity\")\n",
    "    \n",
    "    plt.subplot(2, 3, 4)\n",
    "    plt.hist(df1['Pressure'], label = title1)\n",
    "    plt.hist(df2['Pressure'], label = title2)\n",
    "    plt.legend(loc='best')\n",
    "    plt.xlabel(\"Time - seconds\")\n",
    "    plt.ylabel(\"Pressure - hPa\")\n",
    "    plt.title(\"Pressure\")\n",
    "    \n",
    "    plt.subplot(2, 3, 5)\n",
    "    plt.hist(df1['Altitude'], label = title1)\n",
    "    plt.hist(df2['Altitude'], label = title2)\n",
    "    plt.legend(loc='best')\n",
    "    plt.xlabel(\"Time - seconds\")\n",
    "    plt.ylabel(\"Altitude - meters\")\n",
    "    plt.title(\"Altitude\")\n",
    "    \n",
    "    plt.suptitle(\"PTH Data\", fontsize = 20)\n",
    "    plt.show()"
   ]
  },
  {
   "cell_type": "code",
   "execution_count": 114,
   "id": "7b26ebea",
   "metadata": {},
   "outputs": [
    {
     "data": {
      "image/png": "[encoded data removed]",
      "text/plain": [
       "<Figure size 432x288 with 1 Axes>"
      ]
     },
     "metadata": {
      "needs_background": "light"
     },
     "output_type": "display_data"
    },
    {
     "data": {
      "image/png": "[encoded data removed]",
      "text/plain": [
       "<Figure size 432x288 with 1 Axes>"
      ]
     },
     "metadata": {
      "needs_background": "light"
     },
     "output_type": "display_data"
    },
    {
     "data": {
      "image/png": "[encoded data removed]",
      "text/plain": [
       "<Figure size 432x288 with 1 Axes>"
      ]
     },
     "metadata": {
      "needs_background": "light"
     },
     "output_type": "display_data"
    },
    {
     "data": {
      "image/png": "[encoded data removed]",
      "text/plain": [
       "<Figure size 1440x720 with 5 Axes>"
      ]
     },
     "metadata": {
      "needs_background": "light"
     },
     "output_type": "display_data"
    }
   ],
   "source": [
    "plotCSVhist(outdoor, indoor, \"Outdoor Data\", \"Indoor Data\")"
   ]
  },
  {
   "cell_type": "markdown",
   "id": "786af214",
   "metadata": {},
   "source": [
    "### Step 2: Acquiring outdoor data\n",
    "- Restart your raspberry pi system, powering it with the supplied batteries, rather than the power adaptor.\n",
    "- Add a time delay to the start of your data acquisition script (as an optional user input)\n",
    "- Start your data aquisition to again collect data for 5 minutes, taking readings every second, but this time with an initial ~2 minute delay (so it should run for ~7 minutes total).\n",
    "- Take the whole system outdoors and wait there for the 5 minutes of data acquisition to complete.\n",
    "- At your stations, again push your new data to your git repository on GitHub"
   ]
  },
  {
   "cell_type": "markdown",
   "id": "933945f3",
   "metadata": {},
   "source": [
    "### Step 3: Plotting indoor data\n",
    "- Create a new Jupyter notebook and load (using pandas, for example) the data you now have from your device.\n",
    "- Plot each type of data as a frequency distribution (histogram) with appropriate binning - meaning the distribution shows a good level of detail but does not have binning artifacts\n",
    "- Using the mean and standard deviation of each set of data, does any of the data you have recorded look like it is well described by a normal distribution?\n",
    "  - Using the mean and standard deviation, try plotting a Gaussian function along with each of your frequency distributions and see how well they match."
   ]
  },
  {
   "cell_type": "markdown",
   "id": "48ec41b9",
   "metadata": {},
   "source": [
    "### Step 4: Comparing Indoor vs Outdoor data\n",
    "- Produce the same plots as in Step 2 for your new outdoor data\n",
    "- Now produce plots that compare indoors vs outdoors for each of your data types - don't forget labels\n",
    "- Comment on your results\n",
    "- Compare the mean and standard deviation values for each set of indoor data versus outdoor data, are they in agreement?\n",
    "  - NOTE: The variance in your data is not the uncertainty on the mean (central limit theorem)\n",
    "  - what is your mean uncertainty?\n",
    "  - How many inside mean standard deviations (1 sigma uncertainty) are your inside and outside measurements separated by?\n",
    "- If your distributions were not well described by a Gaussian, do you think you took enough data for the central limit theorem to apply?"
   ]
  },
  {
   "cell_type": "markdown",
   "id": "1558417e",
   "metadata": {},
   "source": []
  },
  {
   "cell_type": "code",
   "execution_count": 98,
   "id": "23be553c",
   "metadata": {},
   "outputs": [
    {
     "name": "stdout",
     "output_type": "stream",
     "text": [
      "[-5.78948843e+03             inf             inf             inf\n",
      " -1.04267451e+02  8.51179780e-01  2.81277910e+00  2.60454234e+02\n",
      " -2.59061525e+02]\n"
     ]
    },
    {
     "name": "stderr",
     "output_type": "stream",
     "text": [
      "/var/folders/20/02_990jd54b9kn8r1w4f8r880000gn/T/ipykernel_26846/2454518645.py:7: RuntimeWarning: divide by zero encountered in true_divide\n",
      "  print((outdoor_mean - indoor_mean)/indoor_std)\n"
     ]
    }
   ],
   "source": [
    "outdoor_std = np.array(outdoor.std())\n",
    "indoor_std = np.array(indoor.std())\n",
    "\n",
    "outdoor_mean = np.array(outdoor.mean())\n",
    "indoor_mean = np.array(indoor.mean())\n",
    "\n",
    "print((outdoor_mean - indoor_mean)/indoor_std)"
   ]
  },
  {
   "cell_type": "markdown",
   "id": "64b4fa74",
   "metadata": {},
   "source": [
    "### Step 5: Comparing sensors\n",
    "- Get data from another group in your lab and compare your inside data with their inside data, including all of elements from Step 4. Do the same comparing your outside data with their outside data.\n",
    "- How do the sensors compare? What do you think this indicates about the accuracy and precision of your sensors?"
   ]
  },
  {
   "cell_type": "code",
   "execution_count": 99,
   "id": "90d2110d",
   "metadata": {},
   "outputs": [
    {
     "name": "stdout",
     "output_type": "stream",
     "text": [
      "(353, 10)\n",
      "(252, 10)\n"
     ]
    },
    {
     "data": {
      "text/html": [
       "<div>\n",
       "<style scoped>\n",
       "    .dataframe tbody tr th:only-of-type {\n",
       "        vertical-align: middle;\n",
       "    }\n",
       "\n",
       "    .dataframe tbody tr th {\n",
       "        vertical-align: top;\n",
       "    }\n",
       "\n",
       "    .dataframe thead th {\n",
       "        text-align: right;\n",
       "    }\n",
       "</style>\n",
       "<table border=\"1\" class=\"dataframe\">\n",
       "  <thead>\n",
       "    <tr style=\"text-align: right;\">\n",
       "      <th></th>\n",
       "      <th>Time</th>\n",
       "      <th>PM 1.0</th>\n",
       "      <th>PM 2.5</th>\n",
       "      <th>PM 10</th>\n",
       "      <th>Temperature</th>\n",
       "      <th>Gas</th>\n",
       "      <th>Humidity</th>\n",
       "      <th>Pressure</th>\n",
       "      <th>Altitude</th>\n",
       "      <th>Unnamed: 9</th>\n",
       "    </tr>\n",
       "  </thead>\n",
       "  <tbody>\n",
       "    <tr>\n",
       "      <th>0</th>\n",
       "      <td>14:59:39</td>\n",
       "      <td>1</td>\n",
       "      <td>6</td>\n",
       "      <td>8</td>\n",
       "      <td>21.294648</td>\n",
       "      <td>8733</td>\n",
       "      <td>24.916397</td>\n",
       "      <td>997.310859</td>\n",
       "      <td>133.557492</td>\n",
       "      <td>NaN</td>\n",
       "    </tr>\n",
       "    <tr>\n",
       "      <th>1</th>\n",
       "      <td>14:59:41</td>\n",
       "      <td>1</td>\n",
       "      <td>6</td>\n",
       "      <td>7</td>\n",
       "      <td>21.310859</td>\n",
       "      <td>963</td>\n",
       "      <td>24.676618</td>\n",
       "      <td>997.308800</td>\n",
       "      <td>133.574858</td>\n",
       "      <td>NaN</td>\n",
       "    </tr>\n",
       "    <tr>\n",
       "      <th>2</th>\n",
       "      <td>14:59:42</td>\n",
       "      <td>0</td>\n",
       "      <td>5</td>\n",
       "      <td>6</td>\n",
       "      <td>21.346016</td>\n",
       "      <td>1465</td>\n",
       "      <td>24.438582</td>\n",
       "      <td>997.314338</td>\n",
       "      <td>133.528158</td>\n",
       "      <td>NaN</td>\n",
       "    </tr>\n",
       "    <tr>\n",
       "      <th>3</th>\n",
       "      <td>14:59:43</td>\n",
       "      <td>0</td>\n",
       "      <td>5</td>\n",
       "      <td>6</td>\n",
       "      <td>21.380977</td>\n",
       "      <td>1983</td>\n",
       "      <td>24.242660</td>\n",
       "      <td>997.319546</td>\n",
       "      <td>133.484234</td>\n",
       "      <td>NaN</td>\n",
       "    </tr>\n",
       "    <tr>\n",
       "      <th>4</th>\n",
       "      <td>14:59:44</td>\n",
       "      <td>0</td>\n",
       "      <td>4</td>\n",
       "      <td>6</td>\n",
       "      <td>21.412031</td>\n",
       "      <td>2517</td>\n",
       "      <td>24.109254</td>\n",
       "      <td>997.326789</td>\n",
       "      <td>133.423152</td>\n",
       "      <td>NaN</td>\n",
       "    </tr>\n",
       "    <tr>\n",
       "      <th>...</th>\n",
       "      <td>...</td>\n",
       "      <td>...</td>\n",
       "      <td>...</td>\n",
       "      <td>...</td>\n",
       "      <td>...</td>\n",
       "      <td>...</td>\n",
       "      <td>...</td>\n",
       "      <td>...</td>\n",
       "      <td>...</td>\n",
       "      <td>...</td>\n",
       "    </tr>\n",
       "    <tr>\n",
       "      <th>348</th>\n",
       "      <td>15:06:35</td>\n",
       "      <td>0</td>\n",
       "      <td>1</td>\n",
       "      <td>1</td>\n",
       "      <td>20.327852</td>\n",
       "      <td>69028</td>\n",
       "      <td>20.167744</td>\n",
       "      <td>996.219137</td>\n",
       "      <td>142.768355</td>\n",
       "      <td>NaN</td>\n",
       "    </tr>\n",
       "    <tr>\n",
       "      <th>349</th>\n",
       "      <td>15:06:36</td>\n",
       "      <td>0</td>\n",
       "      <td>1</td>\n",
       "      <td>1</td>\n",
       "      <td>20.282734</td>\n",
       "      <td>69601</td>\n",
       "      <td>20.185267</td>\n",
       "      <td>996.220798</td>\n",
       "      <td>142.754333</td>\n",
       "      <td>NaN</td>\n",
       "    </tr>\n",
       "    <tr>\n",
       "      <th>350</th>\n",
       "      <td>15:06:37</td>\n",
       "      <td>0</td>\n",
       "      <td>1</td>\n",
       "      <td>1</td>\n",
       "      <td>20.243281</td>\n",
       "      <td>69834</td>\n",
       "      <td>20.213192</td>\n",
       "      <td>996.226754</td>\n",
       "      <td>142.704057</td>\n",
       "      <td>NaN</td>\n",
       "    </tr>\n",
       "    <tr>\n",
       "      <th>351</th>\n",
       "      <td>15:06:39</td>\n",
       "      <td>0</td>\n",
       "      <td>1</td>\n",
       "      <td>1</td>\n",
       "      <td>20.190156</td>\n",
       "      <td>69834</td>\n",
       "      <td>20.235287</td>\n",
       "      <td>996.223603</td>\n",
       "      <td>142.730653</td>\n",
       "      <td>NaN</td>\n",
       "    </tr>\n",
       "    <tr>\n",
       "      <th>352</th>\n",
       "      <td>15:06:40</td>\n",
       "      <td>0</td>\n",
       "      <td>1</td>\n",
       "      <td>1</td>\n",
       "      <td>20.134297</td>\n",
       "      <td>70067</td>\n",
       "      <td>20.252185</td>\n",
       "      <td>996.217599</td>\n",
       "      <td>142.781338</td>\n",
       "      <td>NaN</td>\n",
       "    </tr>\n",
       "  </tbody>\n",
       "</table>\n",
       "<p>353 rows × 10 columns</p>\n",
       "</div>"
      ],
      "text/plain": [
       "         Time  PM 1.0  PM 2.5  PM 10  Temperature    Gas   Humidity  \\\n",
       "0    14:59:39       1       6      8    21.294648   8733  24.916397   \n",
       "1    14:59:41       1       6      7    21.310859    963  24.676618   \n",
       "2    14:59:42       0       5      6    21.346016   1465  24.438582   \n",
       "3    14:59:43       0       5      6    21.380977   1983  24.242660   \n",
       "4    14:59:44       0       4      6    21.412031   2517  24.109254   \n",
       "..        ...     ...     ...    ...          ...    ...        ...   \n",
       "348  15:06:35       0       1      1    20.327852  69028  20.167744   \n",
       "349  15:06:36       0       1      1    20.282734  69601  20.185267   \n",
       "350  15:06:37       0       1      1    20.243281  69834  20.213192   \n",
       "351  15:06:39       0       1      1    20.190156  69834  20.235287   \n",
       "352  15:06:40       0       1      1    20.134297  70067  20.252185   \n",
       "\n",
       "       Pressure    Altitude  Unnamed: 9  \n",
       "0    997.310859  133.557492         NaN  \n",
       "1    997.308800  133.574858         NaN  \n",
       "2    997.314338  133.528158         NaN  \n",
       "3    997.319546  133.484234         NaN  \n",
       "4    997.326789  133.423152         NaN  \n",
       "..          ...         ...         ...  \n",
       "348  996.219137  142.768355         NaN  \n",
       "349  996.220798  142.754333         NaN  \n",
       "350  996.226754  142.704057         NaN  \n",
       "351  996.223603  142.730653         NaN  \n",
       "352  996.217599  142.781338         NaN  \n",
       "\n",
       "[353 rows x 10 columns]"
      ]
     },
     "metadata": {},
     "output_type": "display_data"
    }
   ],
   "source": [
    "their_indoor = pd.read_csv('CSV_FILES/scott-indoor.csv')\n",
    "their_outdoor = pd.read_csv('CSV_FILES/scott-outdoor.csv')\n",
    "print(their_outdoor.shape)\n",
    "print(their_indoor.shape)\n",
    "display(their_outdoor)"
   ]
  },
  {
   "cell_type": "markdown",
   "id": "4a9a58a1",
   "metadata": {},
   "source": [
    "### Extra: Correlations in data\n",
    "- Plot temperature vs humidity\n",
    "  - NOTE: These were taken by the same sensor at the same time, so each measurement matches up in time, meaning plotting one versus the other works. \n",
    "  - What is the hidden variable that is important when making plots like this?\n",
    "- What does this plot show? Are temperature and humidity correlated? How might you quantify this?\n",
    "\n",
    "- Plot temperature vs another property measured by that sensor, are they correlated? Is the correlation qualitatively similar to what you see from temperature vs humidity?\n",
    "  - try this for all data types (temp. vs pressure, temp. vs voc, etc.)\n",
    "  \n",
    "- Plot temperature vs PM2.5 concentration and discuss as with the previous comparisons."
   ]
  }
 ],
 "metadata": {
  "kernelspec": {
   "display_name": "Python 3 (ipykernel)",
   "language": "python",
   "name": "python3"
  },
  "language_info": {
   "codemirror_mode": {
    "name": "ipython",
    "version": 3
   },
   "file_extension": ".py",
   "mimetype": "text/x-python",
   "name": "python",
   "nbconvert_exporter": "python",
   "pygments_lexer": "ipython3",
   "version": "3.9.7"
  },
  "vscode": {
   "interpreter": {
    "hash": "9bd63d4d0e53dd854605697514204d0a3a6bfb81f118d4d4374019a86f3401eb"
   }
  }
 },
 "nbformat": 4,
 "nbformat_minor": 5
}
