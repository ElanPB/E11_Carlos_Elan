{
 "cells": [
  {
   "cell_type": "markdown",
   "id": "3e71f9aa",
   "metadata": {},
   "source": [
    "# Lab Activity Week 6\n",
    "\n",
    "**Homework** Anythin you do not complete in lab is your homework. Please provide a link to your github repository as your homework submission."
   ]
  },
  {
   "cell_type": "markdown",
   "id": "751588bb",
   "metadata": {},
   "source": [
    "### Step 1: Aquiring data\n",
    "\n",
    "- Collect data from your weather and air quality sensors together (in the same script) for 5 minutes, taking a reading every second. \n",
    "- Make the name of the file saving the data something that is unique each time data is recorded. \n",
    "   - **HINT:** You can include the time as part of the file name, for example.\n",
    "- Upload your new data to your git repository on GitHub and update the version of your respository on your laptop"
   ]
  },
  {
   "cell_type": "markdown",
   "id": "786af214",
   "metadata": {},
   "source": [
    "### Step 2: Acquiring outdoor data\n",
    "- Restart your raspberry pi system, powering it with the supplied batteries, rather than the power adaptor.\n",
    "- Add a time delay to the start of your data acquisition script (as an optional user input)\n",
    "- Start your data aquisition to again collect data for 5 minutes, taking readings every second, but this time with an initial ~2 minute delay (so it should run for ~7 minutes total).\n",
    "- Take the whole system outdoors and wait there for the 5 minutes of data acquisition to complete.\n",
    "- At your stations, again push your new data to your git repository on GitHub"
   ]
  },
  {
   "cell_type": "markdown",
   "id": "933945f3",
   "metadata": {},
   "source": [
    "### Step 3: Plotting indoor data\n",
    "- Create a new Jupyter notebook and load (using pandas, for example) the data you now have from your device.\n",
    "- Plot each type of data as a frequency distribution (histogram) with appropriate binning - meaning the distribution shows a good level of detail but does not have binning artifacts\n",
    "- Using the mean and standard deviation of each set of data, does any of the data you have recorded look like it is well described by a normal distribution?\n",
    "  - Using the mean and standard deviation, try plotting a Gaussian function along with each of your frequency distributions and see how well they match."
   ]
  },
  {
   "cell_type": "markdown",
   "id": "48ec41b9",
   "metadata": {},
   "source": [
    "### Step 4: Comparing Indoor vs Outdoor data\n",
    "- Produce the same plots as in Step 2 for your new outdoor data\n",
    "- Now produce plots that compare indoors vs outdoors for each of your data types - don't forget labels\n",
    "- Comment on your results\n",
    "- Compare the mean and standard deviation values for each set of indoor data versus outdoor data, are they in agreement?\n",
    "  - NOTE: The variance in your data is not the uncertainty on the mean (central limit theorem)\n",
    "  - what is your mean uncertainty?\n",
    "  - How many inside mean standard deviations (1 sigma uncertainty) are your inside and outside measurements separated by?\n",
    "- If your distributions were not well described by a Gaussian, do you think you took enough data for the central limit theorem to apply?"
   ]
  },
  {
   "cell_type": "markdown",
   "id": "64b4fa74",
   "metadata": {},
   "source": [
    "### Step 5: Comparing sensors\n",
    "- Get data from another group in your lab and compare your inside data with their inside data, including all of elements from Step 4. Do the same comparing your outside data with their outside data.\n",
    "- How do the sensors compare? What do you think this indicates about the accuracy and precision of your sensors?"
   ]
  },
  {
   "cell_type": "markdown",
   "id": "4a9a58a1",
   "metadata": {},
   "source": [
    "### Extra: Correlations in data\n",
    "- Plot temperature vs humidity\n",
    "  - NOTE: These were taken by the same sensor at the same time, so each measurement matches up in time, meaning plotting one versus the other works. \n",
    "  - What is the hidden variable that is important when making plots like this?\n",
    "- What does this plot show? Are temperature and humidity correlated? How might you quantify this?\n",
    "\n",
    "- Plot temperature vs another property measured by that sensor, are they correlated? Is the correlation qualitatively similar to what you see from temperature vs humidity?\n",
    "  - try this for all data types (temp. vs pressure, temp. vs voc, etc.)\n",
    "  \n",
    "- Plot temperature vs PM2.5 concentration and discuss as with the previous comparisons."
   ]
  }
 ],
 "metadata": {
  "kernelspec": {
   "display_name": "Python 3 (ipykernel)",
   "language": "python",
   "name": "python3"
  },
  "language_info": {
   "codemirror_mode": {
    "name": "ipython",
    "version": 3
   },
   "file_extension": ".py",
   "mimetype": "text/x-python",
   "name": "python",
   "nbconvert_exporter": "python",
   "pygments_lexer": "ipython3",
   "version": "3.7.12"
  }
 },
 "nbformat": 4,
 "nbformat_minor": 5
}
