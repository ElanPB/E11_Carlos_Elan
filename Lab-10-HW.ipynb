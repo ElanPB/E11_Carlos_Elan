{
 "cells": [
  {
   "cell_type": "code",
   "execution_count": 1,
   "id": "eff2cd81",
   "metadata": {},
   "outputs": [],
   "source": [
    "import numpy as np\n",
    "import pandas as pd\n",
    "import math"
   ]
  },
  {
   "cell_type": "code",
   "execution_count": 21,
   "id": "feb55727",
   "metadata": {},
   "outputs": [],
   "source": [
    "col = ['No Shielding', '0.5mm Zn', '0.66cm Al', '1.33cm Al', '2cm Al', '1cm W', '2cm W', '3cm W']\n",
    "source_1 = ['20230322-160452_pocket_geiger.csv', '20230322-161050_pocket_geiger.csv',\\\n",
    "            '20230322-161614_pocket_geiger.csv', '20230322-161845_pocket_geiger.csv',\\\n",
    "            '20230322-162101_pocket_geiger.csv', '20230322-162347_pocket_geiger.csv',\\\n",
    "            '20230322-162642_pocket_geiger.csv', '20230322-162951_pocket_geiger.csv']\n",
    "\n",
    "source_2 = ['20230322-164008_pocket_geiger.csv', '20230322-164500_pocket_geiger.csv',\\\n",
    "            '20230322-165151_pocket_geiger.csv', '20230322-165418_pocket_geiger.csv',\\\n",
    "            '20230322-165713_pocket_geiger.csv', '20230322-164916_pocket_geiger.csv']\n",
    "\n",
    "s1 = pd.DataFrame()\n",
    "for i, ele in enumerate(source_1):\n",
    "    df = pd.read_csv('CSV_FILES/' + ele)\n",
    "    df.columns = [col[i]]\n",
    "    s1 = pd.concat([s1, df], axis=1)\n",
    "    \n",
    "s2 = pd.DataFrame()\n",
    "for i, ele in enumerate(source_2):\n",
    "    df = pd.read_csv('CSV_FILES/' + ele)\n",
    "    df.columns = [col[i]]\n",
    "    s2 = pd.concat([s2, df], axis=1)"
   ]
  },
  {
   "cell_type": "code",
   "execution_count": null,
   "id": "9626b2ad",
   "metadata": {},
   "outputs": [],
   "source": []
  }
 ],
 "metadata": {
  "kernelspec": {
   "display_name": "Python 3 (ipykernel)",
   "language": "python",
   "name": "python3"
  },
  "language_info": {
   "codemirror_mode": {
    "name": "ipython",
    "version": 3
   },
   "file_extension": ".py",
   "mimetype": "text/x-python",
   "name": "python",
   "nbconvert_exporter": "python",
   "pygments_lexer": "ipython3",
   "version": "3.9.7"
  }
 },
 "nbformat": 4,
 "nbformat_minor": 5
}
