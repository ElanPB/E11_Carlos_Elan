{
 "cells": [
  {
   "cell_type": "code",
   "execution_count": 77,
   "metadata": {},
   "outputs": [],
   "source": [
    "import numpy as np\n",
    "import pandas as pd\n",
    "import matplotlib.pyplot as plt\n",
    "import math"
   ]
  },
  {
   "cell_type": "code",
   "execution_count": 78,
   "metadata": {},
   "outputs": [],
   "source": [
    "col = ['No Shielding', '0.5mm Zn', '0.66cm Al', '1.33cm Al', '2cm Al', '1cm W', '2cm W', '3cm W']\n",
    "source_1 = ['20230322-160452_pocket_geiger.csv', '20230322-161050_pocket_geiger.csv',\\\n",
    "            '20230322-161614_pocket_geiger.csv', '20230322-161845_pocket_geiger.csv',\\\n",
    "            '20230322-162101_pocket_geiger.csv', '20230322-162347_pocket_geiger.csv',\\\n",
    "            '20230322-162642_pocket_geiger.csv', '20230322-162951_pocket_geiger.csv']\n",
    "\n",
    "source_2 = ['20230322-164008_pocket_geiger.csv', '20230322-164500_pocket_geiger.csv',\\\n",
    "            '20230322-165151_pocket_geiger.csv', '20230322-165418_pocket_geiger.csv',\\\n",
    "            '20230322-165713_pocket_geiger.csv', '20230322-164916_pocket_geiger.csv']"
   ]
  },
  {
   "cell_type": "code",
   "execution_count": 79,
   "metadata": {},
   "outputs": [],
   "source": [
    "s1 = pd.DataFrame()\n",
    "for i, ele in enumerate(source_1):\n",
    "    df = pd.read_csv('CSV_FILES/' + ele)\n",
    "    df.columns = [col[i]]\n",
    "    s1 = pd.concat([s1, df], axis=1)\n",
    "    \n",
    "s2 = pd.DataFrame()\n",
    "for i, ele in enumerate(source_2):\n",
    "    df = pd.read_csv('CSV_FILES/' + ele)\n",
    "    df.columns = [col[i]]\n",
    "    s2 = pd.concat([s2, df], axis=1)"
   ]
  },
  {
   "cell_type": "code",
   "execution_count": 80,
   "metadata": {},
   "outputs": [
    {
     "data": {
      "text/html": [
       "<div>\n",
       "<style scoped>\n",
       "    .dataframe tbody tr th:only-of-type {\n",
       "        vertical-align: middle;\n",
       "    }\n",
       "\n",
       "    .dataframe tbody tr th {\n",
       "        vertical-align: top;\n",
       "    }\n",
       "\n",
       "    .dataframe thead th {\n",
       "        text-align: right;\n",
       "    }\n",
       "</style>\n",
       "<table border=\"1\" class=\"dataframe\">\n",
       "  <thead>\n",
       "    <tr style=\"text-align: right;\">\n",
       "      <th></th>\n",
       "      <th>No Shielding</th>\n",
       "      <th>0.5mm Zn</th>\n",
       "      <th>0.66cm Al</th>\n",
       "      <th>1.33cm Al</th>\n",
       "      <th>2cm Al</th>\n",
       "      <th>1cm W</th>\n",
       "      <th>2cm W</th>\n",
       "      <th>3cm W</th>\n",
       "    </tr>\n",
       "  </thead>\n",
       "  <tbody>\n",
       "    <tr>\n",
       "      <th>0</th>\n",
       "      <td>31</td>\n",
       "      <td>14</td>\n",
       "      <td>5</td>\n",
       "      <td>3</td>\n",
       "      <td>4</td>\n",
       "      <td>1</td>\n",
       "      <td>2</td>\n",
       "      <td>1</td>\n",
       "    </tr>\n",
       "    <tr>\n",
       "      <th>1</th>\n",
       "      <td>30</td>\n",
       "      <td>8</td>\n",
       "      <td>3</td>\n",
       "      <td>2</td>\n",
       "      <td>0</td>\n",
       "      <td>2</td>\n",
       "      <td>1</td>\n",
       "      <td>0</td>\n",
       "    </tr>\n",
       "    <tr>\n",
       "      <th>2</th>\n",
       "      <td>33</td>\n",
       "      <td>8</td>\n",
       "      <td>5</td>\n",
       "      <td>2</td>\n",
       "      <td>4</td>\n",
       "      <td>4</td>\n",
       "      <td>2</td>\n",
       "      <td>0</td>\n",
       "    </tr>\n",
       "    <tr>\n",
       "      <th>3</th>\n",
       "      <td>35</td>\n",
       "      <td>8</td>\n",
       "      <td>3</td>\n",
       "      <td>3</td>\n",
       "      <td>3</td>\n",
       "      <td>3</td>\n",
       "      <td>1</td>\n",
       "      <td>2</td>\n",
       "    </tr>\n",
       "    <tr>\n",
       "      <th>4</th>\n",
       "      <td>27</td>\n",
       "      <td>11</td>\n",
       "      <td>5</td>\n",
       "      <td>6</td>\n",
       "      <td>2</td>\n",
       "      <td>0</td>\n",
       "      <td>2</td>\n",
       "      <td>0</td>\n",
       "    </tr>\n",
       "    <tr>\n",
       "      <th>5</th>\n",
       "      <td>43</td>\n",
       "      <td>8</td>\n",
       "      <td>1</td>\n",
       "      <td>6</td>\n",
       "      <td>2</td>\n",
       "      <td>0</td>\n",
       "      <td>0</td>\n",
       "      <td>1</td>\n",
       "    </tr>\n",
       "    <tr>\n",
       "      <th>6</th>\n",
       "      <td>25</td>\n",
       "      <td>9</td>\n",
       "      <td>3</td>\n",
       "      <td>6</td>\n",
       "      <td>3</td>\n",
       "      <td>3</td>\n",
       "      <td>2</td>\n",
       "      <td>1</td>\n",
       "    </tr>\n",
       "    <tr>\n",
       "      <th>7</th>\n",
       "      <td>42</td>\n",
       "      <td>5</td>\n",
       "      <td>4</td>\n",
       "      <td>1</td>\n",
       "      <td>1</td>\n",
       "      <td>3</td>\n",
       "      <td>0</td>\n",
       "      <td>1</td>\n",
       "    </tr>\n",
       "    <tr>\n",
       "      <th>8</th>\n",
       "      <td>36</td>\n",
       "      <td>11</td>\n",
       "      <td>4</td>\n",
       "      <td>3</td>\n",
       "      <td>4</td>\n",
       "      <td>0</td>\n",
       "      <td>5</td>\n",
       "      <td>1</td>\n",
       "    </tr>\n",
       "    <tr>\n",
       "      <th>9</th>\n",
       "      <td>29</td>\n",
       "      <td>5</td>\n",
       "      <td>2</td>\n",
       "      <td>5</td>\n",
       "      <td>0</td>\n",
       "      <td>3</td>\n",
       "      <td>1</td>\n",
       "      <td>0</td>\n",
       "    </tr>\n",
       "    <tr>\n",
       "      <th>10</th>\n",
       "      <td>30</td>\n",
       "      <td>5</td>\n",
       "      <td>7</td>\n",
       "      <td>2</td>\n",
       "      <td>1</td>\n",
       "      <td>2</td>\n",
       "      <td>3</td>\n",
       "      <td>1</td>\n",
       "    </tr>\n",
       "    <tr>\n",
       "      <th>11</th>\n",
       "      <td>38</td>\n",
       "      <td>5</td>\n",
       "      <td>6</td>\n",
       "      <td>2</td>\n",
       "      <td>4</td>\n",
       "      <td>1</td>\n",
       "      <td>0</td>\n",
       "      <td>0</td>\n",
       "    </tr>\n",
       "  </tbody>\n",
       "</table>\n",
       "</div>"
      ],
      "text/plain": [
       "    No Shielding  0.5mm Zn  0.66cm Al  1.33cm Al  2cm Al  1cm W  2cm W  3cm W\n",
       "0             31        14          5          3       4      1      2      1\n",
       "1             30         8          3          2       0      2      1      0\n",
       "2             33         8          5          2       4      4      2      0\n",
       "3             35         8          3          3       3      3      1      2\n",
       "4             27        11          5          6       2      0      2      0\n",
       "5             43         8          1          6       2      0      0      1\n",
       "6             25         9          3          6       3      3      2      1\n",
       "7             42         5          4          1       1      3      0      1\n",
       "8             36        11          4          3       4      0      5      1\n",
       "9             29         5          2          5       0      3      1      0\n",
       "10            30         5          7          2       1      2      3      1\n",
       "11            38         5          6          2       4      1      0      0"
      ]
     },
     "metadata": {},
     "output_type": "display_data"
    },
    {
     "data": {
      "text/html": [
       "<div>\n",
       "<style scoped>\n",
       "    .dataframe tbody tr th:only-of-type {\n",
       "        vertical-align: middle;\n",
       "    }\n",
       "\n",
       "    .dataframe tbody tr th {\n",
       "        vertical-align: top;\n",
       "    }\n",
       "\n",
       "    .dataframe thead th {\n",
       "        text-align: right;\n",
       "    }\n",
       "</style>\n",
       "<table border=\"1\" class=\"dataframe\">\n",
       "  <thead>\n",
       "    <tr style=\"text-align: right;\">\n",
       "      <th></th>\n",
       "      <th>No Shielding</th>\n",
       "      <th>0.5mm Zn</th>\n",
       "      <th>0.66cm Al</th>\n",
       "      <th>1.33cm Al</th>\n",
       "      <th>2cm Al</th>\n",
       "      <th>1cm W</th>\n",
       "    </tr>\n",
       "  </thead>\n",
       "  <tbody>\n",
       "    <tr>\n",
       "      <th>0</th>\n",
       "      <td>21</td>\n",
       "      <td>7</td>\n",
       "      <td>9</td>\n",
       "      <td>4</td>\n",
       "      <td>10</td>\n",
       "      <td>4</td>\n",
       "    </tr>\n",
       "    <tr>\n",
       "      <th>1</th>\n",
       "      <td>17</td>\n",
       "      <td>11</td>\n",
       "      <td>9</td>\n",
       "      <td>9</td>\n",
       "      <td>6</td>\n",
       "      <td>7</td>\n",
       "    </tr>\n",
       "    <tr>\n",
       "      <th>2</th>\n",
       "      <td>20</td>\n",
       "      <td>7</td>\n",
       "      <td>10</td>\n",
       "      <td>8</td>\n",
       "      <td>5</td>\n",
       "      <td>4</td>\n",
       "    </tr>\n",
       "    <tr>\n",
       "      <th>3</th>\n",
       "      <td>26</td>\n",
       "      <td>7</td>\n",
       "      <td>6</td>\n",
       "      <td>8</td>\n",
       "      <td>8</td>\n",
       "      <td>3</td>\n",
       "    </tr>\n",
       "    <tr>\n",
       "      <th>4</th>\n",
       "      <td>12</td>\n",
       "      <td>10</td>\n",
       "      <td>12</td>\n",
       "      <td>9</td>\n",
       "      <td>5</td>\n",
       "      <td>6</td>\n",
       "    </tr>\n",
       "    <tr>\n",
       "      <th>5</th>\n",
       "      <td>18</td>\n",
       "      <td>8</td>\n",
       "      <td>6</td>\n",
       "      <td>7</td>\n",
       "      <td>9</td>\n",
       "      <td>4</td>\n",
       "    </tr>\n",
       "    <tr>\n",
       "      <th>6</th>\n",
       "      <td>21</td>\n",
       "      <td>11</td>\n",
       "      <td>12</td>\n",
       "      <td>10</td>\n",
       "      <td>7</td>\n",
       "      <td>9</td>\n",
       "    </tr>\n",
       "    <tr>\n",
       "      <th>7</th>\n",
       "      <td>16</td>\n",
       "      <td>4</td>\n",
       "      <td>4</td>\n",
       "      <td>12</td>\n",
       "      <td>8</td>\n",
       "      <td>4</td>\n",
       "    </tr>\n",
       "    <tr>\n",
       "      <th>8</th>\n",
       "      <td>21</td>\n",
       "      <td>5</td>\n",
       "      <td>6</td>\n",
       "      <td>10</td>\n",
       "      <td>7</td>\n",
       "      <td>0</td>\n",
       "    </tr>\n",
       "    <tr>\n",
       "      <th>9</th>\n",
       "      <td>25</td>\n",
       "      <td>10</td>\n",
       "      <td>8</td>\n",
       "      <td>3</td>\n",
       "      <td>5</td>\n",
       "      <td>7</td>\n",
       "    </tr>\n",
       "    <tr>\n",
       "      <th>10</th>\n",
       "      <td>15</td>\n",
       "      <td>7</td>\n",
       "      <td>6</td>\n",
       "      <td>11</td>\n",
       "      <td>7</td>\n",
       "      <td>5</td>\n",
       "    </tr>\n",
       "    <tr>\n",
       "      <th>11</th>\n",
       "      <td>17</td>\n",
       "      <td>10</td>\n",
       "      <td>6</td>\n",
       "      <td>6</td>\n",
       "      <td>8</td>\n",
       "      <td>3</td>\n",
       "    </tr>\n",
       "  </tbody>\n",
       "</table>\n",
       "</div>"
      ],
      "text/plain": [
       "    No Shielding  0.5mm Zn  0.66cm Al  1.33cm Al  2cm Al  1cm W\n",
       "0             21         7          9          4      10      4\n",
       "1             17        11          9          9       6      7\n",
       "2             20         7         10          8       5      4\n",
       "3             26         7          6          8       8      3\n",
       "4             12        10         12          9       5      6\n",
       "5             18         8          6          7       9      4\n",
       "6             21        11         12         10       7      9\n",
       "7             16         4          4         12       8      4\n",
       "8             21         5          6         10       7      0\n",
       "9             25        10          8          3       5      7\n",
       "10            15         7          6         11       7      5\n",
       "11            17        10          6          6       8      3"
      ]
     },
     "metadata": {},
     "output_type": "display_data"
    }
   ],
   "source": [
    "display(s1)\n",
    "display(s2)"
   ]
  },
  {
   "cell_type": "code",
   "execution_count": 81,
   "metadata": {},
   "outputs": [
    {
     "data": {
      "text/plain": [
       "Text(0.5, 0, 'cpm')"
      ]
     },
     "execution_count": 81,
     "metadata": {},
     "output_type": "execute_result"
    },
    {
     "data": {
      "image/png": "[encoded data removed]",
      "text/plain": [
       "<Figure size 640x480 with 1 Axes>"
      ]
     },
     "metadata": {},
     "output_type": "display_data"
    }
   ],
   "source": [
    "ax1 = s1.plot.hist(bins = 15, alpha = 1/4, title = \"Source 1\")\n",
    "ax1.set_xlabel(\"cpm\")"
   ]
  },
  {
   "cell_type": "code",
   "execution_count": 82,
   "metadata": {},
   "outputs": [
    {
     "name": "stdout",
     "output_type": "stream",
     "text": [
      "Source 1\n",
      " Means:\n",
      " No Shielding    33.250000\n",
      "0.5mm Zn         8.083333\n",
      "0.66cm Al        4.000000\n",
      "1.33cm Al        3.416667\n",
      "2cm Al           2.333333\n",
      "1cm W            1.833333\n",
      "2cm W            1.583333\n",
      "3cm W            0.666667\n",
      "dtype: float64\n"
     ]
    }
   ],
   "source": [
    "print(\"Source 1\\n Means:\\n\", s1.mean())"
   ]
  },
  {
   "cell_type": "code",
   "execution_count": 138,
   "metadata": {},
   "outputs": [
    {
     "name": "stdout",
     "output_type": "stream",
     "text": [
      "Standard deviations:\n",
      " No Shielding    5.690902\n",
      "0.5mm Zn        2.874918\n",
      "0.66cm Al       1.705606\n",
      "1.33cm Al       1.831955\n",
      "2cm Al          1.556998\n",
      "1cm W           1.403459\n",
      "2cm W           1.443376\n",
      "3cm W           0.651339\n",
      "dtype: float64 \n",
      "Expected uncertainties:\n",
      " No Shielding    5.766281\n",
      "0.5mm Zn        2.843120\n",
      "0.66cm Al       2.000000\n",
      "1.33cm Al       1.848423\n",
      "2cm Al          1.527525\n",
      "1cm W           1.354006\n",
      "2cm W           1.258306\n",
      "3cm W           0.816497\n",
      "dtype: float64\n"
     ]
    }
   ],
   "source": [
    "print(\"Standard deviations:\\n\", s1.std(), \\\n",
    "\"\\nExpected uncertainties:\\n\", np.sqrt(s1.mean()))"
   ]
  },
  {
   "attachments": {},
   "cell_type": "markdown",
   "metadata": {},
   "source": [
    "The measured $\\sigma$ are in good agreement with the expected values $\\sigma_{ideal} = N$. The counts roughly follow an exponential trend with thickness, as we know the theoretical behavior of radiation intensity is $I = I_0 e^{- \\Sigma r}$."
   ]
  },
  {
   "cell_type": "code",
   "execution_count": 116,
   "metadata": {},
   "outputs": [
    {
     "name": "stdout",
     "output_type": "stream",
     "text": [
      "No Shielding    399\n",
      "0.5mm Zn         97\n",
      "0.66cm Al        48\n",
      "1.33cm Al        41\n",
      "2cm Al           28\n",
      "1cm W            22\n",
      "2cm W            19\n",
      "3cm W             8\n",
      "dtype: int64\n"
     ]
    }
   ],
   "source": [
    "s1_total_counts = s1.sum()\n",
    "print(s1_total_counts)\n",
    "Al_thicknesses = [0, 0.66, 1.33, 2]\n",
    "W_thicknesses = [0, 1, 2, 3]"
   ]
  },
  {
   "cell_type": "code",
   "execution_count": 126,
   "metadata": {},
   "outputs": [
    {
     "data": {
      "image/png": "[encoded data removed]",
      "text/plain": [
       "<Figure size 640x480 with 1 Axes>"
      ]
     },
     "metadata": {},
     "output_type": "display_data"
    }
   ],
   "source": [
    "fig, ax = plt.subplots()\n",
    "ax.scatter(Al_thicknesses, s1_total_counts[[0,2,3,4]], label = \"Aluminum\")\n",
    "ax.scatter(W_thicknesses, s1_total_counts[[0,5,6,7]], label = \"Tungsten\")\n",
    "m_Al_1, b_Al_1 = np.polyfit(Al_thicknesses, np.log10(s1_total_counts[[0,2,3,4]]), 1)\n",
    "m_W_1, b_W_1 = np.polyfit(W_thicknesses, np.log10(s1_total_counts[[0,5,6,7]]),1)\n",
    "x1 = np.arange(0,3,0.01)\n",
    "ax.plot(x1, 10**(m_Al_1 * x1 + b_Al_1), ls = 'dashed')\n",
    "ax.plot(x1, 10**(m_W_1 * x1 + b_W_1), ls = 'dashed')\n",
    "plt.yscale('log')\n",
    "plt.errorbar(Al_thicknesses + W_thicknesses[1:], s1_total_counts[[0,2,3,4,5,6,7]], \\\n",
    "    yerr = np.sqrt(s1_total_counts[[0,2,3,4,5,6,7]]), xerr = None, ls = 'none', capsize = 3.0)\n",
    "plt.xlabel(\"Thickness [cm]\")\n",
    "plt.ylabel(\"Total counts\")\n",
    "plt.legend(loc = 'best')\n",
    "plt.title(\"Source 1 counts for Al and W absorbers\")\n",
    "plt.show()"
   ]
  },
  {
   "cell_type": "code",
   "execution_count": 131,
   "metadata": {},
   "outputs": [
    {
     "name": "stdout",
     "output_type": "stream",
     "text": [
      "The absorption coefficients of Al and W are 0.53 cm^-1 and 0.52 cm^-1, respectively.\n"
     ]
    }
   ],
   "source": [
    "print(\"The absorption coefficients of Al and W are %.2f cm^-1 and %.2f cm^-1, respectively.\"\\\n",
    "    %(-m_Al_1, -m_W_1))"
   ]
  },
  {
   "attachments": {},
   "cell_type": "markdown",
   "metadata": {},
   "source": [
    "If we had more data points (i.e. more pieces of aluminum and tungsten pieces of varying thickness) we could get more precise absorption coefficients, as the regression isn't super tight as-is."
   ]
  },
  {
   "cell_type": "code",
   "execution_count": 86,
   "metadata": {},
   "outputs": [
    {
     "data": {
      "text/plain": [
       "Text(0.5, 0, 'cpm')"
      ]
     },
     "execution_count": 86,
     "metadata": {},
     "output_type": "execute_result"
    },
    {
     "data": {
      "image/png": "[encoded data removed]",
      "text/plain": [
       "<Figure size 640x480 with 1 Axes>"
      ]
     },
     "metadata": {},
     "output_type": "display_data"
    }
   ],
   "source": [
    "ax2 = s2.plot.hist(bins = 15, alpha = 1/4, title = \"Source 2\")\n",
    "ax2.set_xlabel(\"cpm\")"
   ]
  },
  {
   "cell_type": "code",
   "execution_count": 139,
   "metadata": {},
   "outputs": [
    {
     "name": "stdout",
     "output_type": "stream",
     "text": [
      "Source 2\n",
      " Means:\n",
      " No Shielding    19.083333\n",
      "0.5mm Zn         8.083333\n",
      "0.66cm Al        7.833333\n",
      "1.33cm Al        8.083333\n",
      "2cm Al           7.083333\n",
      "1cm W            4.666667\n",
      "dtype: float64\n"
     ]
    }
   ],
   "source": [
    "print(\"Source 2\\n Means:\\n\", s2.mean())"
   ]
  },
  {
   "cell_type": "code",
   "execution_count": 140,
   "metadata": {},
   "outputs": [
    {
     "name": "stdout",
     "output_type": "stream",
     "text": [
      "Standard deviations:\n",
      " No Shielding    4.055486\n",
      "0.5mm Zn        2.314316\n",
      "0.66cm Al       2.587850\n",
      "1.33cm Al       2.712206\n",
      "2cm Al          1.621354\n",
      "1cm W           2.348436\n",
      "dtype: float64 \n",
      "Expected uncertainties:\n",
      " No Shielding    4.368447\n",
      "0.5mm Zn        2.843120\n",
      "0.66cm Al       2.798809\n",
      "1.33cm Al       2.843120\n",
      "2cm Al          2.661453\n",
      "1cm W           2.160247\n",
      "dtype: float64\n"
     ]
    }
   ],
   "source": [
    "print(\"Standard deviations:\\n\", s2.std(), \\\n",
    "\"\\nExpected uncertainties:\\n\", np.sqrt(s2.mean()))"
   ]
  },
  {
   "attachments": {},
   "cell_type": "markdown",
   "metadata": {},
   "source": [
    "With the exception of the 2 cm Al shielding, the measured $\\sigma$ are in pretty good agreement with the expected $\\sigma_\\text{ideal} = N$"
   ]
  },
  {
   "cell_type": "code",
   "execution_count": 134,
   "metadata": {},
   "outputs": [
    {
     "name": "stdout",
     "output_type": "stream",
     "text": [
      "No Shielding    229\n",
      "0.5mm Zn         97\n",
      "0.66cm Al        94\n",
      "1.33cm Al        97\n",
      "2cm Al           85\n",
      "1cm W            56\n",
      "dtype: int64\n"
     ]
    }
   ],
   "source": [
    "W_thicknesses_2 = [0, 1]\n",
    "s2_total_counts = s2.sum()\n",
    "print(s2_total_counts)"
   ]
  },
  {
   "cell_type": "code",
   "execution_count": 136,
   "metadata": {},
   "outputs": [
    {
     "data": {
      "image/png": "[encoded data removed]",
      "text/plain": [
       "<Figure size 640x480 with 1 Axes>"
      ]
     },
     "metadata": {},
     "output_type": "display_data"
    }
   ],
   "source": [
    "fig, ax = plt.subplots()\n",
    "ax.scatter(Al_thicknesses, s2_total_counts[[0,2,3,4]], label = \"Aluminum\")\n",
    "ax.scatter(W_thicknesses_2, s2_total_counts[[0,5]], label = \"Tungsten\")\n",
    "m_Al_2, b_Al_2 = np.polyfit(Al_thicknesses, np.log10(s2_total_counts[[0,2,3,4]]), 1)\n",
    "m_W_2, b_W_2 = np.polyfit(W_thicknesses_2, np.log10(s2_total_counts[[0,5]]),1)\n",
    "x2 = np.arange(0,2,0.01)\n",
    "ax.plot(x2, 10**(m_Al_2 * x2 + b_Al_2), ls = 'dashed')\n",
    "ax.plot(x2, 10**(m_W_2 * x2 + b_W_2), ls = 'dashed')\n",
    "plt.yscale('log')\n",
    "plt.errorbar(Al_thicknesses + W_thicknesses_2[1:], s2_total_counts[[0,2,3,4,5]], \\\n",
    "    yerr = np.sqrt(s2_total_counts[[0,2,3,4,5]]), xerr = None, ls = 'none', capsize = 3.0)\n",
    "plt.xlabel(\"Thickness [cm]\")\n",
    "plt.ylabel(\"Total counts\")\n",
    "plt.legend(loc = 'best')\n",
    "plt.title(\"Source 2 counts for Al and W absorbers\")\n",
    "plt.show()"
   ]
  },
  {
   "cell_type": "code",
   "execution_count": 137,
   "metadata": {},
   "outputs": [
    {
     "name": "stdout",
     "output_type": "stream",
     "text": [
      "The absorption coefficients of Al and W are 0.19 cm^-1 and 0.61 cm^-1, respectively.\n"
     ]
    }
   ],
   "source": [
    "print(\"The absorption coefficients of Al and W are %.2f cm^-1 and %.2f cm^-1, respectively.\"\\\n",
    "    %(-m_Al_2, -m_W_2))"
   ]
  },
  {
   "attachments": {},
   "cell_type": "markdown",
   "metadata": {},
   "source": [
    "This disagrees significantly than the values we got from source 1. This is understandable, as we only had 2 data points for the tungsten absorber for source 2, one of which was with no absorber at all."
   ]
  }
 ],
 "metadata": {
  "kernelspec": {
   "display_name": "Python 3",
   "language": "python",
   "name": "python3"
  },
  "language_info": {
   "codemirror_mode": {
    "name": "ipython",
    "version": 3
   },
   "file_extension": ".py",
   "mimetype": "text/x-python",
   "name": "python",
   "nbconvert_exporter": "python",
   "pygments_lexer": "ipython3",
   "version": "3.10.4"
  },
  "orig_nbformat": 4,
  "vscode": {
   "interpreter": {
    "hash": "9bd63d4d0e53dd854605697514204d0a3a6bfb81f118d4d4374019a86f3401eb"
   }
  }
 },
 "nbformat": 4,
 "nbformat_minor": 2
}
